{
 "cells": [
  {
   "cell_type": "markdown",
   "id": "71d224cb-48cf-49d5-92f9-be2c4d577ac1",
   "metadata": {},
   "source": [
    "# Laboratorio 1"
   ]
  },
  {
   "cell_type": "markdown",
   "id": "1bef5923-3ea0-429f-99db-36e3ed7a3e15",
   "metadata": {},
   "source": [
    "## 1. Qué Es Git?"
   ]
  },
  {
   "cell_type": "markdown",
   "id": "c64edbdc-d2b5-48ff-bc37-2273acd2a902",
   "metadata": {},
   "source": [
    "Git es un sistema de control de versiones distribuido que permite a los desarrolladores trabajar en un proyecto de manera simultánea sin interferir con el trabajo de los demás. Cada desarrollador tiene una copia completa del proyecto en su máquina local, lo que permite trabajar de manera independiente. Git rastrea y registra todos los cambios realizados en el código, lo que facilita la identificación de cuándo y dónde se introdujo un cambio específico. Esto es especialmente útil para la depuración y la resolución de conflictos cuando varios desarrolladores están trabajando en el mismo proyecto.\n",
    "\n",
    "Git fue creado por Linus Torvalds, el famoso creador del kernel del sistema operativo Linux, en 2005. Para reiterar la información anterior, Git permite a los desarrolladores colaborar y realizar cambios en proyectos compartidos, a la vez que mantiene un seguimiento detallado de su progreso. En lugar de tener un único espacio para todo el historial de versiones del software, en Git, cada copia de trabajo del código de cada desarrollador es también un repositorio que puede albergar el historial completo de todos los cambios."
   ]
  },
  {
   "cell_type": "markdown",
   "id": "d5a85086-0733-49fb-9d5e-12a641128e09",
   "metadata": {},
   "source": [
    "## 2. Qué es Github?"
   ]
  },
  {
   "cell_type": "markdown",
   "id": "a0cdd23a-6418-4706-811d-a4cf69303492",
   "metadata": {},
   "source": [
    "GitHub es una plataforma de alojamiento de código que utiliza Git para el control de versiones. Permite a los desarrolladores almacenar sus proyectos en línea y colaborar con otros. GitHub proporciona una interfaz gráfica para gestionar repositorios de Git y facilita la colaboración en proyectos de código abierto. Los desarrolladores pueden contribuir a los proyectos de otros, abrir y rastrear problemas, y proponer cambios a través de solicitudes de extracción.\n",
    "\n",
    "En otras palabras, GitHub es una plataforma basada en la web que incorpora las características de control de versiones de git para que puedan ser utilizadas de forma colaborativa. GitHub es un servicio basado en la nube que aloja un sistema de control de versiones (VCS) llamado Git. Permite a los desarrolladores colaborar y realizar cambios en proyectos compartidos, a la vez que mantienen un seguimiento detallado de su progreso."
   ]
  },
  {
   "cell_type": "markdown",
   "id": "7af110dd-6162-4cdc-8469-696e22b30a96",
   "metadata": {},
   "source": [
    "## 3. Qué son MagicCells en Jupyter Notebooks?"
   ]
  },
  {
   "cell_type": "markdown",
   "id": "6a2307f1-8fe0-46f5-bc0d-0c8a8884bf6e",
   "metadata": {},
   "source": [
    "Las Magic Cells son comandos especiales en Jupyter Notebook que permiten modificar el comportamiento de una celda de código de manera explícita. Estos comandos tienen el prefijo %% seguido del nombre del comando. Las Magic Cells pueden realizar diversas tareas y personalizaciones, como medir el tiempo de ejecución del código, renderizar contenido en varios formatos como Markdown y HTML, y simplificar tareas comunes como la visualización de datos. Estos son algunos ejemplos de funciones de Magic Cells:\n",
    "\n",
    "- %%time: Mide el tiempo de ejecución de la celda completa.\r\n",
    "- %%timeit: Mide el tiempo de ejecución y realiza múltiples ejecuciones para un tiempo más preciso.\r\n",
    "- %%writefile: Escribe el contenido de la celda en un archivo.\r\n",
    "- %%html: Renderiza la celda como un bloque de HTML.\r\n",
    "- %%javascript o %%js: Ejecuta el bloque de código JavaScript de la celda.\r\n",
    "- %%latex: Renderiza la celda como un bloque de LaTeX.\r\n",
    "- %%markdown: Renderiza la celda como un bloque de texto Markdown."
   ]
  },
  {
   "cell_type": "code",
   "execution_count": 10,
   "id": "b98425a0-11ba-4335-b092-283f8b1ccd75",
   "metadata": {},
   "outputs": [
    {
     "data": {
      "text/html": [
       "<a href=\"https://github.com/JuanCaBocaletti/Laboratorio_1.git\"> GitHub Laboratorio 1</a>\n"
      ],
      "text/plain": [
       "<IPython.core.display.HTML object>"
      ]
     },
     "metadata": {},
     "output_type": "display_data"
    }
   ],
   "source": [
    "%%html\n",
    "<a href=\"https://github.com/JuanCaBocaletti/Laboratorio_1.git\"> GitHub Laboratorio 1</a>"
   ]
  },
  {
   "cell_type": "code",
   "execution_count": null,
   "id": "05bdafd3-472b-4d64-9b10-7ef460b3fdfe",
   "metadata": {},
   "outputs": [],
   "source": []
  }
 ],
 "metadata": {
  "kernelspec": {
   "display_name": "Python 3 (ipykernel)",
   "language": "python",
   "name": "python3"
  },
  "language_info": {
   "codemirror_mode": {
    "name": "ipython",
    "version": 3
   },
   "file_extension": ".py",
   "mimetype": "text/x-python",
   "name": "python",
   "nbconvert_exporter": "python",
   "pygments_lexer": "ipython3",
   "version": "3.11.7"
  }
 },
 "nbformat": 4,
 "nbformat_minor": 5
}
